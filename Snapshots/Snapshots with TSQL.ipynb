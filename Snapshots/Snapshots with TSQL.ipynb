{
    "metadata": {
        "kernelspec": {
            "name": "SQL",
            "display_name": "SQL",
            "language": "sql"
        },
        "language_info": {
            "name": "sql",
            "version": ""
        }
    },
    "nbformat_minor": 2,
    "nbformat": 4,
    "cells": [
        {
            "cell_type": "markdown",
            "source": [
                "## Why Snapshots?\n",
                "\n",
                "I need to do some testing which requires a lot of setup, and I want to be able to quickly revert my changes. I could do a backup & restore, but I don't really have space for all that, and it takes a long time to do those restores because of the size of the database.\n",
                "\n",
                "https://docs.microsoft.com/en-us/sql/relational-databases/databases/database-snapshots-sql-server?view=sql-server-ver15  \n",
                "\n",
                "https://docs.microsoft.com/en-us/sql/relational-databases/databases/create-a-database-snapshot-transact-sql?view=sql-server-ver15"
            ],
            "metadata": {
                "azdata_cell_guid": "6e188e3b-d390-401a-a055-9c3c40c1e3ab"
            }
        },
        {
            "cell_type": "markdown",
            "source": [
                "## Let's Make a Snapshot!"
            ],
            "metadata": {
                "azdata_cell_guid": "765e2e29-d020-4a02-ba64-42d1a66504ba"
            }
        },
        {
            "cell_type": "code",
            "source": [
                "create database StackOverflow_Snapshot on \r\n",
                "    (name=StackOverflow_1\r\n",
                "    , Filename='C:\\SQL\\Data\\SQL17\\StackOverflow1_Snapshot.ss')\r\n",
                "    , (name=StackOverflow_2\r\n",
                "    , Filename='C:\\SQL\\Data\\SQL17\\StackOverflow2_Snapshot.ss')\r\n",
                "    , (name=StackOverflow_3\r\n",
                "    , Filename='C:\\SQL\\Data\\SQL17\\StackOverflow3_Snapshot.ss')\r\n",
                "    , (name=StackOverflow_4\r\n",
                "    , Filename='C:\\SQL\\Data\\SQL17\\StackOverflow4_Snapshot.ss')\r\n",
                " as SNAPSHOT of StackOverflow;"
            ],
            "metadata": {
                "azdata_cell_guid": "2c78dc8a-423f-4516-9ee9-4fd5eabaabe5",
                "tags": []
            },
            "outputs": [
                {
                    "output_type": "display_data",
                    "data": {
                        "text/html": "Commands completed successfully."
                    },
                    "metadata": {}
                },
                {
                    "output_type": "display_data",
                    "data": {
                        "text/html": "Total execution time: 00:00:00.285"
                    },
                    "metadata": {}
                }
            ],
            "execution_count": 13
        },
        {
            "cell_type": "markdown",
            "source": [
                "## That Was Quick\n",
                "\n",
                "Did it work? Let's find out"
            ],
            "metadata": {
                "azdata_cell_guid": "5ce76466-45fa-4293-a56e-a9c408a39f81"
            }
        },
        {
            "cell_type": "code",
            "source": [
                "select * from sys.databases where source_database_id is not null;\r\n",
                "select s.name as SourceDB, t.name as SnapshotDB from sys.databases s join sys.databases t on s.database_id = t.source_database_id"
            ],
            "metadata": {
                "azdata_cell_guid": "d8600588-8f50-4404-b211-6411616c26a5",
                "tags": []
            },
            "outputs": [
                {
                    "output_type": "display_data",
                    "data": {
                        "text/html": "(1 row affected)"
                    },
                    "metadata": {}
                },
                {
                    "output_type": "display_data",
                    "data": {
                        "text/html": "(1 row affected)"
                    },
                    "metadata": {}
                },
                {
                    "output_type": "display_data",
                    "data": {
                        "text/html": "Total execution time: 00:00:00.283"
                    },
                    "metadata": {}
                },
                {
                    "output_type": "execute_result",
                    "metadata": {},
                    "execution_count": 14,
                    "data": {
                        "application/vnd.dataresource+json": {
                            "schema": {
                                "fields": [
                                    {
                                        "name": "name"
                                    },
                                    {
                                        "name": "database_id"
                                    },
                                    {
                                        "name": "source_database_id"
                                    },
                                    {
                                        "name": "owner_sid"
                                    },
                                    {
                                        "name": "create_date"
                                    },
                                    {
                                        "name": "compatibility_level"
                                    },
                                    {
                                        "name": "collation_name"
                                    },
                                    {
                                        "name": "user_access"
                                    },
                                    {
                                        "name": "user_access_desc"
                                    },
                                    {
                                        "name": "is_read_only"
                                    },
                                    {
                                        "name": "is_auto_close_on"
                                    },
                                    {
                                        "name": "is_auto_shrink_on"
                                    },
                                    {
                                        "name": "state"
                                    },
                                    {
                                        "name": "state_desc"
                                    },
                                    {
                                        "name": "is_in_standby"
                                    },
                                    {
                                        "name": "is_cleanly_shutdown"
                                    },
                                    {
                                        "name": "is_supplemental_logging_enabled"
                                    },
                                    {
                                        "name": "snapshot_isolation_state"
                                    },
                                    {
                                        "name": "snapshot_isolation_state_desc"
                                    },
                                    {
                                        "name": "is_read_committed_snapshot_on"
                                    },
                                    {
                                        "name": "recovery_model"
                                    },
                                    {
                                        "name": "recovery_model_desc"
                                    },
                                    {
                                        "name": "page_verify_option"
                                    },
                                    {
                                        "name": "page_verify_option_desc"
                                    },
                                    {
                                        "name": "is_auto_create_stats_on"
                                    },
                                    {
                                        "name": "is_auto_create_stats_incremental_on"
                                    },
                                    {
                                        "name": "is_auto_update_stats_on"
                                    },
                                    {
                                        "name": "is_auto_update_stats_async_on"
                                    },
                                    {
                                        "name": "is_ansi_null_default_on"
                                    },
                                    {
                                        "name": "is_ansi_nulls_on"
                                    },
                                    {
                                        "name": "is_ansi_padding_on"
                                    },
                                    {
                                        "name": "is_ansi_warnings_on"
                                    },
                                    {
                                        "name": "is_arithabort_on"
                                    },
                                    {
                                        "name": "is_concat_null_yields_null_on"
                                    },
                                    {
                                        "name": "is_numeric_roundabort_on"
                                    },
                                    {
                                        "name": "is_quoted_identifier_on"
                                    },
                                    {
                                        "name": "is_recursive_triggers_on"
                                    },
                                    {
                                        "name": "is_cursor_close_on_commit_on"
                                    },
                                    {
                                        "name": "is_local_cursor_default"
                                    },
                                    {
                                        "name": "is_fulltext_enabled"
                                    },
                                    {
                                        "name": "is_trustworthy_on"
                                    },
                                    {
                                        "name": "is_db_chaining_on"
                                    },
                                    {
                                        "name": "is_parameterization_forced"
                                    },
                                    {
                                        "name": "is_master_key_encrypted_by_server"
                                    },
                                    {
                                        "name": "is_query_store_on"
                                    },
                                    {
                                        "name": "is_published"
                                    },
                                    {
                                        "name": "is_subscribed"
                                    },
                                    {
                                        "name": "is_merge_published"
                                    },
                                    {
                                        "name": "is_distributor"
                                    },
                                    {
                                        "name": "is_sync_with_backup"
                                    },
                                    {
                                        "name": "service_broker_guid"
                                    },
                                    {
                                        "name": "is_broker_enabled"
                                    },
                                    {
                                        "name": "log_reuse_wait"
                                    },
                                    {
                                        "name": "log_reuse_wait_desc"
                                    },
                                    {
                                        "name": "is_date_correlation_on"
                                    },
                                    {
                                        "name": "is_cdc_enabled"
                                    },
                                    {
                                        "name": "is_encrypted"
                                    },
                                    {
                                        "name": "is_honor_broker_priority_on"
                                    },
                                    {
                                        "name": "replica_id"
                                    },
                                    {
                                        "name": "group_database_id"
                                    },
                                    {
                                        "name": "resource_pool_id"
                                    },
                                    {
                                        "name": "default_language_lcid"
                                    },
                                    {
                                        "name": "default_language_name"
                                    },
                                    {
                                        "name": "default_fulltext_language_lcid"
                                    },
                                    {
                                        "name": "default_fulltext_language_name"
                                    },
                                    {
                                        "name": "is_nested_triggers_on"
                                    },
                                    {
                                        "name": "is_transform_noise_words_on"
                                    },
                                    {
                                        "name": "two_digit_year_cutoff"
                                    },
                                    {
                                        "name": "containment"
                                    },
                                    {
                                        "name": "containment_desc"
                                    },
                                    {
                                        "name": "target_recovery_time_in_seconds"
                                    },
                                    {
                                        "name": "delayed_durability"
                                    },
                                    {
                                        "name": "delayed_durability_desc"
                                    },
                                    {
                                        "name": "is_memory_optimized_elevate_to_snapshot_on"
                                    },
                                    {
                                        "name": "is_federation_member"
                                    },
                                    {
                                        "name": "is_remote_data_archive_enabled"
                                    },
                                    {
                                        "name": "is_mixed_page_allocation_on"
                                    },
                                    {
                                        "name": "is_temporal_history_retention_enabled"
                                    }
                                ]
                            },
                            "data": [
                                {
                                    "0": "StackOverflow_Snapshot",
                                    "1": "23",
                                    "2": "21",
                                    "3": "0x01",
                                    "4": "2020-10-18 15:15:32.853",
                                    "5": "100",
                                    "6": "SQL_Latin1_General_CP1_CI_AS",
                                    "7": "0",
                                    "8": "MULTI_USER",
                                    "9": "1",
                                    "10": "0",
                                    "11": "0",
                                    "12": "0",
                                    "13": "ONLINE",
                                    "14": "0",
                                    "15": "1",
                                    "16": "0",
                                    "17": "1",
                                    "18": "ON",
                                    "19": "0",
                                    "20": "3",
                                    "21": "SIMPLE",
                                    "22": "2",
                                    "23": "CHECKSUM",
                                    "24": "1",
                                    "25": "0",
                                    "26": "1",
                                    "27": "0",
                                    "28": "0",
                                    "29": "0",
                                    "30": "0",
                                    "31": "0",
                                    "32": "0",
                                    "33": "0",
                                    "34": "0",
                                    "35": "0",
                                    "36": "0",
                                    "37": "0",
                                    "38": "0",
                                    "39": "1",
                                    "40": "0",
                                    "41": "0",
                                    "42": "0",
                                    "43": "0",
                                    "44": "0",
                                    "45": "0",
                                    "46": "0",
                                    "47": "0",
                                    "48": "0",
                                    "49": "0",
                                    "50": "9e22b50c-2f4a-4625-a73a-6694d4cfb806",
                                    "51": "0",
                                    "52": "1",
                                    "53": "CHECKPOINT",
                                    "54": "0",
                                    "55": "0",
                                    "56": "0",
                                    "57": "0",
                                    "58": "NULL",
                                    "59": "NULL",
                                    "60": "NULL",
                                    "61": "NULL",
                                    "62": "NULL",
                                    "63": "NULL",
                                    "64": "NULL",
                                    "65": "NULL",
                                    "66": "NULL",
                                    "67": "NULL",
                                    "68": "0",
                                    "69": "NONE",
                                    "70": "0",
                                    "71": "0",
                                    "72": "DISABLED",
                                    "73": "0",
                                    "74": "0",
                                    "75": "0",
                                    "76": "0",
                                    "77": "1"
                                }
                            ]
                        },
                        "text/html": [
                            "<table>",
                            "<tr><th>name</th><th>database_id</th><th>source_database_id</th><th>owner_sid</th><th>create_date</th><th>compatibility_level</th><th>collation_name</th><th>user_access</th><th>user_access_desc</th><th>is_read_only</th><th>is_auto_close_on</th><th>is_auto_shrink_on</th><th>state</th><th>state_desc</th><th>is_in_standby</th><th>is_cleanly_shutdown</th><th>is_supplemental_logging_enabled</th><th>snapshot_isolation_state</th><th>snapshot_isolation_state_desc</th><th>is_read_committed_snapshot_on</th><th>recovery_model</th><th>recovery_model_desc</th><th>page_verify_option</th><th>page_verify_option_desc</th><th>is_auto_create_stats_on</th><th>is_auto_create_stats_incremental_on</th><th>is_auto_update_stats_on</th><th>is_auto_update_stats_async_on</th><th>is_ansi_null_default_on</th><th>is_ansi_nulls_on</th><th>is_ansi_padding_on</th><th>is_ansi_warnings_on</th><th>is_arithabort_on</th><th>is_concat_null_yields_null_on</th><th>is_numeric_roundabort_on</th><th>is_quoted_identifier_on</th><th>is_recursive_triggers_on</th><th>is_cursor_close_on_commit_on</th><th>is_local_cursor_default</th><th>is_fulltext_enabled</th><th>is_trustworthy_on</th><th>is_db_chaining_on</th><th>is_parameterization_forced</th><th>is_master_key_encrypted_by_server</th><th>is_query_store_on</th><th>is_published</th><th>is_subscribed</th><th>is_merge_published</th><th>is_distributor</th><th>is_sync_with_backup</th><th>service_broker_guid</th><th>is_broker_enabled</th><th>log_reuse_wait</th><th>log_reuse_wait_desc</th><th>is_date_correlation_on</th><th>is_cdc_enabled</th><th>is_encrypted</th><th>is_honor_broker_priority_on</th><th>replica_id</th><th>group_database_id</th><th>resource_pool_id</th><th>default_language_lcid</th><th>default_language_name</th><th>default_fulltext_language_lcid</th><th>default_fulltext_language_name</th><th>is_nested_triggers_on</th><th>is_transform_noise_words_on</th><th>two_digit_year_cutoff</th><th>containment</th><th>containment_desc</th><th>target_recovery_time_in_seconds</th><th>delayed_durability</th><th>delayed_durability_desc</th><th>is_memory_optimized_elevate_to_snapshot_on</th><th>is_federation_member</th><th>is_remote_data_archive_enabled</th><th>is_mixed_page_allocation_on</th><th>is_temporal_history_retention_enabled</th></tr>",
                            "<tr><td>StackOverflow_Snapshot</td><td>23</td><td>21</td><td>0x01</td><td>2020-10-18 15:15:32.853</td><td>100</td><td>SQL_Latin1_General_CP1_CI_AS</td><td>0</td><td>MULTI_USER</td><td>1</td><td>0</td><td>0</td><td>0</td><td>ONLINE</td><td>0</td><td>1</td><td>0</td><td>1</td><td>ON</td><td>0</td><td>3</td><td>SIMPLE</td><td>2</td><td>CHECKSUM</td><td>1</td><td>0</td><td>1</td><td>0</td><td>0</td><td>0</td><td>0</td><td>0</td><td>0</td><td>0</td><td>0</td><td>0</td><td>0</td><td>0</td><td>0</td><td>1</td><td>0</td><td>0</td><td>0</td><td>0</td><td>0</td><td>0</td><td>0</td><td>0</td><td>0</td><td>0</td><td>9e22b50c-2f4a-4625-a73a-6694d4cfb806</td><td>0</td><td>1</td><td>CHECKPOINT</td><td>0</td><td>0</td><td>0</td><td>0</td><td>NULL</td><td>NULL</td><td>NULL</td><td>NULL</td><td>NULL</td><td>NULL</td><td>NULL</td><td>NULL</td><td>NULL</td><td>NULL</td><td>0</td><td>NONE</td><td>0</td><td>0</td><td>DISABLED</td><td>0</td><td>0</td><td>0</td><td>0</td><td>1</td></tr>",
                            "</table>"
                        ]
                    }
                },
                {
                    "output_type": "execute_result",
                    "metadata": {},
                    "execution_count": 14,
                    "data": {
                        "application/vnd.dataresource+json": {
                            "schema": {
                                "fields": [
                                    {
                                        "name": "SourceDB"
                                    },
                                    {
                                        "name": "SnapshotDB"
                                    }
                                ]
                            },
                            "data": [
                                {
                                    "0": "StackOverflow",
                                    "1": "StackOverflow_Snapshot"
                                }
                            ]
                        },
                        "text/html": [
                            "<table>",
                            "<tr><th>SourceDB</th><th>SnapshotDB</th></tr>",
                            "<tr><td>StackOverflow</td><td>StackOverflow_Snapshot</td></tr>",
                            "</table>"
                        ]
                    }
                }
            ],
            "execution_count": 14
        },
        {
            "cell_type": "markdown",
            "source": [
                "## Time to Test\n",
                "\n",
                "Where do I fall in Stack Overflow rankings?"
            ],
            "metadata": {
                "azdata_cell_guid": "ed79e40c-e460-42b0-bdb5-52a4f0c47013"
            }
        },
        {
            "cell_type": "code",
            "source": [
                "select * from (\r\n",
                "    select accountid,displayname, [Location], reputation,upvotes,downvotes, creationdate from StackOverflow.dbo.users where DisplayName= 'alroc'\r\n",
                "    UNION\r\n",
                "    select top 5 accountid,displayname, [Location], reputation,upvotes,downvotes, creationdate from StackOverflow.dbo.Users order by reputation desc\r\n",
                ") as UserRep order by reputation desc;"
            ],
            "metadata": {
                "azdata_cell_guid": "205c7bcc-797e-4fbb-83a8-1b66a11786ef",
                "tags": []
            },
            "outputs": [
                {
                    "output_type": "display_data",
                    "data": {
                        "text/html": "(7 rows affected)"
                    },
                    "metadata": {}
                },
                {
                    "output_type": "display_data",
                    "data": {
                        "text/html": "Total execution time: 00:00:06.519"
                    },
                    "metadata": {}
                },
                {
                    "output_type": "execute_result",
                    "metadata": {},
                    "execution_count": 15,
                    "data": {
                        "application/vnd.dataresource+json": {
                            "schema": {
                                "fields": [
                                    {
                                        "name": "accountid"
                                    },
                                    {
                                        "name": "displayname"
                                    },
                                    {
                                        "name": "Location"
                                    },
                                    {
                                        "name": "reputation"
                                    },
                                    {
                                        "name": "upvotes"
                                    },
                                    {
                                        "name": "downvotes"
                                    },
                                    {
                                        "name": "creationdate"
                                    }
                                ]
                            },
                            "data": [
                                {
                                    "0": "11683",
                                    "1": "Jon Skeet",
                                    "2": "Reading, United Kingdom",
                                    "3": "1147559",
                                    "4": "16489",
                                    "5": "6951",
                                    "6": "2008-09-26 12:05:05.150"
                                },
                                {
                                    "0": "4243",
                                    "1": "VonC",
                                    "2": "France",
                                    "3": "910732",
                                    "4": "51729",
                                    "5": "274",
                                    "6": "2008-09-13 22:22:33.173"
                                },
                                {
                                    "0": "52822",
                                    "1": "BalusC",
                                    "2": "Willemstad, Curaçao",
                                    "3": "900136",
                                    "4": "15394",
                                    "5": "21418",
                                    "6": "2009-08-17 16:42:02.403"
                                },
                                {
                                    "0": "14332",
                                    "1": "Darin Dimitrov",
                                    "2": "Sofia, Bulgaria",
                                    "3": "887923",
                                    "4": "1954",
                                    "5": "2651",
                                    "6": "2008-10-19 16:07:47.823"
                                },
                                {
                                    "0": "1165580",
                                    "1": "Gordon Linoff",
                                    "2": "New York, United States",
                                    "3": "886150",
                                    "4": "14639",
                                    "5": "41",
                                    "6": "2012-01-11 19:53:57.590"
                                },
                                {
                                    "0": "1394230",
                                    "1": "alroc",
                                    "2": "United States",
                                    "3": "24229",
                                    "4": "933",
                                    "5": "289",
                                    "6": "2012-04-10 14:51:44.847"
                                },
                                {
                                    "0": "2122467",
                                    "1": "Alroc",
                                    "2": "NULL",
                                    "3": "127",
                                    "4": "15",
                                    "5": "0",
                                    "6": "2012-12-07 12:34:10.123"
                                }
                            ]
                        },
                        "text/html": [
                            "<table>",
                            "<tr><th>accountid</th><th>displayname</th><th>Location</th><th>reputation</th><th>upvotes</th><th>downvotes</th><th>creationdate</th></tr>",
                            "<tr><td>11683</td><td>Jon Skeet</td><td>Reading, United Kingdom</td><td>1147559</td><td>16489</td><td>6951</td><td>2008-09-26 12:05:05.150</td></tr>",
                            "<tr><td>4243</td><td>VonC</td><td>France</td><td>910732</td><td>51729</td><td>274</td><td>2008-09-13 22:22:33.173</td></tr>",
                            "<tr><td>52822</td><td>BalusC</td><td>Willemstad, Curaçao</td><td>900136</td><td>15394</td><td>21418</td><td>2009-08-17 16:42:02.403</td></tr>",
                            "<tr><td>14332</td><td>Darin Dimitrov</td><td>Sofia, Bulgaria</td><td>887923</td><td>1954</td><td>2651</td><td>2008-10-19 16:07:47.823</td></tr>",
                            "<tr><td>1165580</td><td>Gordon Linoff</td><td>New York, United States</td><td>886150</td><td>14639</td><td>41</td><td>2012-01-11 19:53:57.590</td></tr>",
                            "<tr><td>1394230</td><td>alroc</td><td>United States</td><td>24229</td><td>933</td><td>289</td><td>2012-04-10 14:51:44.847</td></tr>",
                            "<tr><td>2122467</td><td>Alroc</td><td>NULL</td><td>127</td><td>15</td><td>0</td><td>2012-12-07 12:34:10.123</td></tr>",
                            "</table>"
                        ]
                    }
                }
            ],
            "execution_count": 15
        },
        {
            "cell_type": "markdown",
            "source": [
                "I don't like where I'm sitting, let's give it a little boost."
            ],
            "metadata": {
                "azdata_cell_guid": "d9f0fe1a-0b96-4684-9689-224ca706771d"
            }
        },
        {
            "cell_type": "code",
            "source": [
                "Update StackOverflow.dbo.Users\r\n",
                "set reputation = (select reputation - 1 from StackOverflow.dbo.Users where accountid = 1165580);\r\n",
                "\r\n",
                "select * from (\r\n",
                "    select accountid,displayname, [Location], reputation,upvotes,downvotes, creationdate from StackOverflow.dbo.users where DisplayName= 'alroc'\r\n",
                "    UNION\r\n",
                "    select top 5 accountid,displayname, [Location], reputation,upvotes,downvotes, creationdate from StackOverflow.dbo.Users order by reputation desc\r\n",
                ") as UserRep order by reputation desc;"
            ],
            "metadata": {
                "azdata_cell_guid": "2ea9d2cb-534e-4682-a200-0ab0d0c62a67",
                "tags": []
            },
            "outputs": [
                {
                    "output_type": "display_data",
                    "data": {
                        "text/html": "(11376305 rows affected)"
                    },
                    "metadata": {}
                },
                {
                    "output_type": "display_data",
                    "data": {
                        "text/html": "(7 rows affected)"
                    },
                    "metadata": {}
                },
                {
                    "output_type": "display_data",
                    "data": {
                        "text/html": "Total execution time: 00:05:15.424"
                    },
                    "metadata": {}
                },
                {
                    "output_type": "execute_result",
                    "metadata": {},
                    "execution_count": 16,
                    "data": {
                        "application/vnd.dataresource+json": {
                            "schema": {
                                "fields": [
                                    {
                                        "name": "accountid"
                                    },
                                    {
                                        "name": "displayname"
                                    },
                                    {
                                        "name": "Location"
                                    },
                                    {
                                        "name": "reputation"
                                    },
                                    {
                                        "name": "upvotes"
                                    },
                                    {
                                        "name": "downvotes"
                                    },
                                    {
                                        "name": "creationdate"
                                    }
                                ]
                            },
                            "data": [
                                {
                                    "0": "19120",
                                    "1": "netic",
                                    "2": "Australia",
                                    "3": "886149",
                                    "4": "24",
                                    "5": "0",
                                    "6": "2008-12-09 08:32:03.307"
                                },
                                {
                                    "0": "19121",
                                    "1": "Julian Popov",
                                    "2": "Bulgaria",
                                    "3": "886149",
                                    "4": "152",
                                    "5": "3",
                                    "6": "2008-12-09 08:53:51.420"
                                },
                                {
                                    "0": "19122",
                                    "1": "user44538",
                                    "2": "NULL",
                                    "3": "886149",
                                    "4": "31",
                                    "5": "0",
                                    "6": "2008-12-09 09:05:46.827"
                                },
                                {
                                    "0": "19123",
                                    "1": "si618",
                                    "2": "Adelaide, South Australia",
                                    "3": "886149",
                                    "4": "1778",
                                    "5": "24",
                                    "6": "2008-12-09 09:12:48.373"
                                },
                                {
                                    "0": "19124",
                                    "1": "lakshmanaraj",
                                    "2": "India",
                                    "3": "886149",
                                    "4": "0",
                                    "5": "0",
                                    "6": "2008-12-09 09:19:24.770"
                                },
                                {
                                    "0": "1394230",
                                    "1": "alroc",
                                    "2": "United States",
                                    "3": "886149",
                                    "4": "933",
                                    "5": "289",
                                    "6": "2012-04-10 14:51:44.847"
                                },
                                {
                                    "0": "2122467",
                                    "1": "Alroc",
                                    "2": "NULL",
                                    "3": "886149",
                                    "4": "15",
                                    "5": "0",
                                    "6": "2012-12-07 12:34:10.123"
                                }
                            ]
                        },
                        "text/html": [
                            "<table>",
                            "<tr><th>accountid</th><th>displayname</th><th>Location</th><th>reputation</th><th>upvotes</th><th>downvotes</th><th>creationdate</th></tr>",
                            "<tr><td>19120</td><td>netic</td><td>Australia</td><td>886149</td><td>24</td><td>0</td><td>2008-12-09 08:32:03.307</td></tr>",
                            "<tr><td>19121</td><td>Julian Popov</td><td>Bulgaria</td><td>886149</td><td>152</td><td>3</td><td>2008-12-09 08:53:51.420</td></tr>",
                            "<tr><td>19122</td><td>user44538</td><td>NULL</td><td>886149</td><td>31</td><td>0</td><td>2008-12-09 09:05:46.827</td></tr>",
                            "<tr><td>19123</td><td>si618</td><td>Adelaide, South Australia</td><td>886149</td><td>1778</td><td>24</td><td>2008-12-09 09:12:48.373</td></tr>",
                            "<tr><td>19124</td><td>lakshmanaraj</td><td>India</td><td>886149</td><td>0</td><td>0</td><td>2008-12-09 09:19:24.770</td></tr>",
                            "<tr><td>1394230</td><td>alroc</td><td>United States</td><td>886149</td><td>933</td><td>289</td><td>2012-04-10 14:51:44.847</td></tr>",
                            "<tr><td>2122467</td><td>Alroc</td><td>NULL</td><td>886149</td><td>15</td><td>0</td><td>2012-12-07 12:34:10.123</td></tr>",
                            "</table>"
                        ]
                    }
                }
            ],
            "execution_count": 16
        },
        {
            "cell_type": "markdown",
            "source": [
                "## WHOOPS!\n",
                "\n",
                "That's not what I wanted. Let's roll it back and try again."
            ],
            "metadata": {
                "azdata_cell_guid": "297d7f9b-e17d-4348-ae01-31e6212ded07"
            }
        },
        {
            "cell_type": "code",
            "source": [
                "Restore database StackOverflow from database_SNAPSHOT = 'StackOverflow_Snapshot';"
            ],
            "metadata": {
                "azdata_cell_guid": "b0fdead8-cde9-458c-9de2-5bf7f9987cef",
                "tags": []
            },
            "outputs": [
                {
                    "output_type": "display_data",
                    "data": {
                        "text/html": "Commands completed successfully."
                    },
                    "metadata": {}
                },
                {
                    "output_type": "display_data",
                    "data": {
                        "text/html": "Total execution time: 00:00:39.458"
                    },
                    "metadata": {}
                }
            ],
            "execution_count": 21
        },
        {
            "cell_type": "code",
            "source": [
                "Update StackOverflow.dbo.Users\r\n",
                "set reputation = (select reputation -1 from StackOverflow.dbo.Users where accountid = 1165580)\r\n",
                "where accountid = 1394230;\r\n",
                "\r\n",
                "select * from (\r\n",
                "    select accountid,displayname, [Location], reputation,upvotes,downvotes, creationdate from StackOverflow.dbo.users where DisplayName= 'alroc'\r\n",
                "    UNION\r\n",
                "    select top 5 accountid,displayname, [Location], reputation,upvotes,downvotes, creationdate from StackOverflow.dbo.Users order by reputation desc\r\n",
                ") as UserRep order by reputation desc;"
            ],
            "metadata": {
                "azdata_cell_guid": "9deacafa-6953-47bb-b4cf-c6cee4ded379"
            },
            "outputs": [
                {
                    "output_type": "display_data",
                    "data": {
                        "text/html": "(1 row affected)"
                    },
                    "metadata": {}
                },
                {
                    "output_type": "display_data",
                    "data": {
                        "text/html": "(7 rows affected)"
                    },
                    "metadata": {}
                },
                {
                    "output_type": "display_data",
                    "data": {
                        "text/html": "Total execution time: 00:00:11.409"
                    },
                    "metadata": {}
                },
                {
                    "output_type": "execute_result",
                    "metadata": {},
                    "execution_count": 20,
                    "data": {
                        "application/vnd.dataresource+json": {
                            "schema": {
                                "fields": [
                                    {
                                        "name": "accountid"
                                    },
                                    {
                                        "name": "displayname"
                                    },
                                    {
                                        "name": "Location"
                                    },
                                    {
                                        "name": "reputation"
                                    },
                                    {
                                        "name": "upvotes"
                                    },
                                    {
                                        "name": "downvotes"
                                    },
                                    {
                                        "name": "creationdate"
                                    }
                                ]
                            },
                            "data": [
                                {
                                    "0": "11683",
                                    "1": "Jon Skeet",
                                    "2": "Reading, United Kingdom",
                                    "3": "1147559",
                                    "4": "16489",
                                    "5": "6951",
                                    "6": "2008-09-26 12:05:05.150"
                                },
                                {
                                    "0": "4243",
                                    "1": "VonC",
                                    "2": "France",
                                    "3": "910732",
                                    "4": "51729",
                                    "5": "274",
                                    "6": "2008-09-13 22:22:33.173"
                                },
                                {
                                    "0": "52822",
                                    "1": "BalusC",
                                    "2": "Willemstad, Curaçao",
                                    "3": "900136",
                                    "4": "15394",
                                    "5": "21418",
                                    "6": "2009-08-17 16:42:02.403"
                                },
                                {
                                    "0": "14332",
                                    "1": "Darin Dimitrov",
                                    "2": "Sofia, Bulgaria",
                                    "3": "887923",
                                    "4": "1954",
                                    "5": "2651",
                                    "6": "2008-10-19 16:07:47.823"
                                },
                                {
                                    "0": "1165580",
                                    "1": "Gordon Linoff",
                                    "2": "New York, United States",
                                    "3": "886150",
                                    "4": "14639",
                                    "5": "41",
                                    "6": "2012-01-11 19:53:57.590"
                                },
                                {
                                    "0": "1394230",
                                    "1": "alroc",
                                    "2": "United States",
                                    "3": "886149",
                                    "4": "933",
                                    "5": "289",
                                    "6": "2012-04-10 14:51:44.847"
                                },
                                {
                                    "0": "2122467",
                                    "1": "Alroc",
                                    "2": "NULL",
                                    "3": "127",
                                    "4": "15",
                                    "5": "0",
                                    "6": "2012-12-07 12:34:10.123"
                                }
                            ]
                        },
                        "text/html": [
                            "<table>",
                            "<tr><th>accountid</th><th>displayname</th><th>Location</th><th>reputation</th><th>upvotes</th><th>downvotes</th><th>creationdate</th></tr>",
                            "<tr><td>11683</td><td>Jon Skeet</td><td>Reading, United Kingdom</td><td>1147559</td><td>16489</td><td>6951</td><td>2008-09-26 12:05:05.150</td></tr>",
                            "<tr><td>4243</td><td>VonC</td><td>France</td><td>910732</td><td>51729</td><td>274</td><td>2008-09-13 22:22:33.173</td></tr>",
                            "<tr><td>52822</td><td>BalusC</td><td>Willemstad, Curaçao</td><td>900136</td><td>15394</td><td>21418</td><td>2009-08-17 16:42:02.403</td></tr>",
                            "<tr><td>14332</td><td>Darin Dimitrov</td><td>Sofia, Bulgaria</td><td>887923</td><td>1954</td><td>2651</td><td>2008-10-19 16:07:47.823</td></tr>",
                            "<tr><td>1165580</td><td>Gordon Linoff</td><td>New York, United States</td><td>886150</td><td>14639</td><td>41</td><td>2012-01-11 19:53:57.590</td></tr>",
                            "<tr><td>1394230</td><td>alroc</td><td>United States</td><td>886149</td><td>933</td><td>289</td><td>2012-04-10 14:51:44.847</td></tr>",
                            "<tr><td>2122467</td><td>Alroc</td><td>NULL</td><td>127</td><td>15</td><td>0</td><td>2012-12-07 12:34:10.123</td></tr>",
                            "</table>"
                        ]
                    }
                }
            ],
            "execution_count": 20
        },
        {
            "cell_type": "markdown",
            "source": [
                "## That's much better!\n",
                "\n",
                "Let's stick with this and remove the snapshot now"
            ],
            "metadata": {
                "azdata_cell_guid": "b61852a7-edf0-4937-92b2-026b177f3d3b"
            }
        },
        {
            "cell_type": "code",
            "source": [
                "drop database StackOverflow_Snapshot;\r\n",
                "select * from sys.databases where source_database_id is not null;\r\n",
                "select s.name as SourceDB, t.name as SnapshotDB from sys.databases s join sys.databases t on s.database_id = t.source_database_id"
            ],
            "metadata": {
                "azdata_cell_guid": "564f0573-c786-4a27-8859-d32791acd12a"
            },
            "outputs": [
                {
                    "output_type": "display_data",
                    "data": {
                        "text/html": "(0 rows affected)"
                    },
                    "metadata": {}
                },
                {
                    "output_type": "display_data",
                    "data": {
                        "text/html": "(0 rows affected)"
                    },
                    "metadata": {}
                },
                {
                    "output_type": "display_data",
                    "data": {
                        "text/html": "Total execution time: 00:00:00.807"
                    },
                    "metadata": {}
                },
                {
                    "output_type": "execute_result",
                    "metadata": {},
                    "execution_count": 22,
                    "data": {
                        "application/vnd.dataresource+json": {
                            "schema": {
                                "fields": [
                                    {
                                        "name": "name"
                                    },
                                    {
                                        "name": "database_id"
                                    },
                                    {
                                        "name": "source_database_id"
                                    },
                                    {
                                        "name": "owner_sid"
                                    },
                                    {
                                        "name": "create_date"
                                    },
                                    {
                                        "name": "compatibility_level"
                                    },
                                    {
                                        "name": "collation_name"
                                    },
                                    {
                                        "name": "user_access"
                                    },
                                    {
                                        "name": "user_access_desc"
                                    },
                                    {
                                        "name": "is_read_only"
                                    },
                                    {
                                        "name": "is_auto_close_on"
                                    },
                                    {
                                        "name": "is_auto_shrink_on"
                                    },
                                    {
                                        "name": "state"
                                    },
                                    {
                                        "name": "state_desc"
                                    },
                                    {
                                        "name": "is_in_standby"
                                    },
                                    {
                                        "name": "is_cleanly_shutdown"
                                    },
                                    {
                                        "name": "is_supplemental_logging_enabled"
                                    },
                                    {
                                        "name": "snapshot_isolation_state"
                                    },
                                    {
                                        "name": "snapshot_isolation_state_desc"
                                    },
                                    {
                                        "name": "is_read_committed_snapshot_on"
                                    },
                                    {
                                        "name": "recovery_model"
                                    },
                                    {
                                        "name": "recovery_model_desc"
                                    },
                                    {
                                        "name": "page_verify_option"
                                    },
                                    {
                                        "name": "page_verify_option_desc"
                                    },
                                    {
                                        "name": "is_auto_create_stats_on"
                                    },
                                    {
                                        "name": "is_auto_create_stats_incremental_on"
                                    },
                                    {
                                        "name": "is_auto_update_stats_on"
                                    },
                                    {
                                        "name": "is_auto_update_stats_async_on"
                                    },
                                    {
                                        "name": "is_ansi_null_default_on"
                                    },
                                    {
                                        "name": "is_ansi_nulls_on"
                                    },
                                    {
                                        "name": "is_ansi_padding_on"
                                    },
                                    {
                                        "name": "is_ansi_warnings_on"
                                    },
                                    {
                                        "name": "is_arithabort_on"
                                    },
                                    {
                                        "name": "is_concat_null_yields_null_on"
                                    },
                                    {
                                        "name": "is_numeric_roundabort_on"
                                    },
                                    {
                                        "name": "is_quoted_identifier_on"
                                    },
                                    {
                                        "name": "is_recursive_triggers_on"
                                    },
                                    {
                                        "name": "is_cursor_close_on_commit_on"
                                    },
                                    {
                                        "name": "is_local_cursor_default"
                                    },
                                    {
                                        "name": "is_fulltext_enabled"
                                    },
                                    {
                                        "name": "is_trustworthy_on"
                                    },
                                    {
                                        "name": "is_db_chaining_on"
                                    },
                                    {
                                        "name": "is_parameterization_forced"
                                    },
                                    {
                                        "name": "is_master_key_encrypted_by_server"
                                    },
                                    {
                                        "name": "is_query_store_on"
                                    },
                                    {
                                        "name": "is_published"
                                    },
                                    {
                                        "name": "is_subscribed"
                                    },
                                    {
                                        "name": "is_merge_published"
                                    },
                                    {
                                        "name": "is_distributor"
                                    },
                                    {
                                        "name": "is_sync_with_backup"
                                    },
                                    {
                                        "name": "service_broker_guid"
                                    },
                                    {
                                        "name": "is_broker_enabled"
                                    },
                                    {
                                        "name": "log_reuse_wait"
                                    },
                                    {
                                        "name": "log_reuse_wait_desc"
                                    },
                                    {
                                        "name": "is_date_correlation_on"
                                    },
                                    {
                                        "name": "is_cdc_enabled"
                                    },
                                    {
                                        "name": "is_encrypted"
                                    },
                                    {
                                        "name": "is_honor_broker_priority_on"
                                    },
                                    {
                                        "name": "replica_id"
                                    },
                                    {
                                        "name": "group_database_id"
                                    },
                                    {
                                        "name": "resource_pool_id"
                                    },
                                    {
                                        "name": "default_language_lcid"
                                    },
                                    {
                                        "name": "default_language_name"
                                    },
                                    {
                                        "name": "default_fulltext_language_lcid"
                                    },
                                    {
                                        "name": "default_fulltext_language_name"
                                    },
                                    {
                                        "name": "is_nested_triggers_on"
                                    },
                                    {
                                        "name": "is_transform_noise_words_on"
                                    },
                                    {
                                        "name": "two_digit_year_cutoff"
                                    },
                                    {
                                        "name": "containment"
                                    },
                                    {
                                        "name": "containment_desc"
                                    },
                                    {
                                        "name": "target_recovery_time_in_seconds"
                                    },
                                    {
                                        "name": "delayed_durability"
                                    },
                                    {
                                        "name": "delayed_durability_desc"
                                    },
                                    {
                                        "name": "is_memory_optimized_elevate_to_snapshot_on"
                                    },
                                    {
                                        "name": "is_federation_member"
                                    },
                                    {
                                        "name": "is_remote_data_archive_enabled"
                                    },
                                    {
                                        "name": "is_mixed_page_allocation_on"
                                    },
                                    {
                                        "name": "is_temporal_history_retention_enabled"
                                    }
                                ]
                            },
                            "data": []
                        },
                        "text/html": [
                            "<table>",
                            "<tr><th>name</th><th>database_id</th><th>source_database_id</th><th>owner_sid</th><th>create_date</th><th>compatibility_level</th><th>collation_name</th><th>user_access</th><th>user_access_desc</th><th>is_read_only</th><th>is_auto_close_on</th><th>is_auto_shrink_on</th><th>state</th><th>state_desc</th><th>is_in_standby</th><th>is_cleanly_shutdown</th><th>is_supplemental_logging_enabled</th><th>snapshot_isolation_state</th><th>snapshot_isolation_state_desc</th><th>is_read_committed_snapshot_on</th><th>recovery_model</th><th>recovery_model_desc</th><th>page_verify_option</th><th>page_verify_option_desc</th><th>is_auto_create_stats_on</th><th>is_auto_create_stats_incremental_on</th><th>is_auto_update_stats_on</th><th>is_auto_update_stats_async_on</th><th>is_ansi_null_default_on</th><th>is_ansi_nulls_on</th><th>is_ansi_padding_on</th><th>is_ansi_warnings_on</th><th>is_arithabort_on</th><th>is_concat_null_yields_null_on</th><th>is_numeric_roundabort_on</th><th>is_quoted_identifier_on</th><th>is_recursive_triggers_on</th><th>is_cursor_close_on_commit_on</th><th>is_local_cursor_default</th><th>is_fulltext_enabled</th><th>is_trustworthy_on</th><th>is_db_chaining_on</th><th>is_parameterization_forced</th><th>is_master_key_encrypted_by_server</th><th>is_query_store_on</th><th>is_published</th><th>is_subscribed</th><th>is_merge_published</th><th>is_distributor</th><th>is_sync_with_backup</th><th>service_broker_guid</th><th>is_broker_enabled</th><th>log_reuse_wait</th><th>log_reuse_wait_desc</th><th>is_date_correlation_on</th><th>is_cdc_enabled</th><th>is_encrypted</th><th>is_honor_broker_priority_on</th><th>replica_id</th><th>group_database_id</th><th>resource_pool_id</th><th>default_language_lcid</th><th>default_language_name</th><th>default_fulltext_language_lcid</th><th>default_fulltext_language_name</th><th>is_nested_triggers_on</th><th>is_transform_noise_words_on</th><th>two_digit_year_cutoff</th><th>containment</th><th>containment_desc</th><th>target_recovery_time_in_seconds</th><th>delayed_durability</th><th>delayed_durability_desc</th><th>is_memory_optimized_elevate_to_snapshot_on</th><th>is_federation_member</th><th>is_remote_data_archive_enabled</th><th>is_mixed_page_allocation_on</th><th>is_temporal_history_retention_enabled</th></tr>",
                            "</table>"
                        ]
                    }
                },
                {
                    "output_type": "execute_result",
                    "metadata": {},
                    "execution_count": 22,
                    "data": {
                        "application/vnd.dataresource+json": {
                            "schema": {
                                "fields": [
                                    {
                                        "name": "SourceDB"
                                    },
                                    {
                                        "name": "SnapshotDB"
                                    }
                                ]
                            },
                            "data": []
                        },
                        "text/html": [
                            "<table>",
                            "<tr><th>SourceDB</th><th>SnapshotDB</th></tr>",
                            "</table>"
                        ]
                    }
                }
            ],
            "execution_count": 22
        }
    ]
}